{
 "cells": [
  {
   "cell_type": "markdown",
   "id": "04944fa7",
   "metadata": {},
   "source": [
    "# Bibliothéque"
   ]
  },
  {
   "cell_type": "code",
   "execution_count": 29,
   "id": "58b41605",
   "metadata": {},
   "outputs": [],
   "source": [
    "# Importation des bibliothèques nécessaires\n",
    "import pandas as pd\n",
    "from sklearn.model_selection import train_test_split\n",
    "from sklearn.linear_model import LogisticRegression\n",
    "from sklearn.metrics import accuracy_score, confusion_matrix\n",
    "from sklearn.preprocessing import StandardScaler\n",
    "from sklearn.metrics import precision_score, recall_score, f1_score\n",
    "import matplotlib.pyplot as plt\n",
    "import seaborn as sns\n"
   ]
  },
  {
   "cell_type": "markdown",
   "id": "ef96ce11",
   "metadata": {},
   "source": [
    "# Chargement des données"
   ]
  },
  {
   "cell_type": "code",
   "execution_count": 30,
   "id": "78f10f71",
   "metadata": {},
   "outputs": [],
   "source": [
    "# Chargement des données\n",
    "# Assurez-vous que votre fichier CSV est dans le même répertoire que votre script Python\n",
    "data = pd.read_csv('sales_data.csv')"
   ]
  },
  {
   "cell_type": "markdown",
   "id": "9af9d195",
   "metadata": {},
   "source": [
    "# Préparation des données"
   ]
  },
  {
   "cell_type": "code",
   "execution_count": 31,
   "id": "f2167cc8",
   "metadata": {},
   "outputs": [],
   "source": [
    "# Préparation des données\n",
    "# Remplacez 'feature_cols' par les colonnes de votre jeu de données que vous souhaitez utiliser comme caractéristiques\n",
    "feature_cols = ['Unit price', 'Tax 5%', 'Total', 'cogs', 'gross margin percentage', 'gross income', 'Rating']\n",
    "X = data[feature_cols]\n",
    "y = data['Quantity']"
   ]
  },
  {
   "cell_type": "markdown",
   "id": "2cdc6bc4",
   "metadata": {},
   "source": [
    "# Conversion variable continus en variable catégorielle pour utiliser la classification"
   ]
  },
  {
   "cell_type": "code",
   "execution_count": 32,
   "id": "6f70b9b9",
   "metadata": {},
   "outputs": [],
   "source": [
    "# Création des limites des intervalles\n",
    "bins = [0, 5, 10, float('inf')]\n",
    "\n",
    "# Création des labels pour chaque intervalle\n",
    "labels = ['Faible', 'Moyen', 'Élevé']\n",
    "\n",
    "# Transformation de la variable continue en variable catégorielle\n",
    "data['Quantity_cat'] = pd.cut(data['Quantity'], bins=bins, labels=labels)\n"
   ]
  },
  {
   "cell_type": "code",
   "execution_count": 33,
   "id": "f2349e92",
   "metadata": {},
   "outputs": [],
   "source": [
    "y = data['Quantity_cat']"
   ]
  },
  {
   "cell_type": "markdown",
   "id": "f3bc9f87",
   "metadata": {},
   "source": [
    "# Normalisation des données"
   ]
  },
  {
   "cell_type": "code",
   "execution_count": 34,
   "id": "f9be4de1",
   "metadata": {},
   "outputs": [],
   "source": [
    "# Normalisation des données\n",
    "scaler = StandardScaler()\n",
    "X = scaler.fit_transform(X)"
   ]
  },
  {
   "cell_type": "code",
   "execution_count": null,
   "id": "182ad070",
   "metadata": {},
   "outputs": [],
   "source": []
  },
  {
   "cell_type": "code",
   "execution_count": 35,
   "id": "a067fe69",
   "metadata": {},
   "outputs": [],
   "source": [
    "# Division des données en ensembles d'entraînement et de test\n",
    "X_train, X_test, y_train, y_test = train_test_split(X, y, test_size=0.2, random_state=42)"
   ]
  },
  {
   "cell_type": "code",
   "execution_count": 36,
   "id": "57a6ac22",
   "metadata": {},
   "outputs": [],
   "source": [
    "# Création du modèle de régression logistique\n",
    "model = LogisticRegression()"
   ]
  },
  {
   "cell_type": "code",
   "execution_count": 37,
   "id": "d96b3243",
   "metadata": {},
   "outputs": [
    {
     "data": {
      "text/html": [
       "<style>#sk-container-id-3 {color: black;background-color: white;}#sk-container-id-3 pre{padding: 0;}#sk-container-id-3 div.sk-toggleable {background-color: white;}#sk-container-id-3 label.sk-toggleable__label {cursor: pointer;display: block;width: 100%;margin-bottom: 0;padding: 0.3em;box-sizing: border-box;text-align: center;}#sk-container-id-3 label.sk-toggleable__label-arrow:before {content: \"▸\";float: left;margin-right: 0.25em;color: #696969;}#sk-container-id-3 label.sk-toggleable__label-arrow:hover:before {color: black;}#sk-container-id-3 div.sk-estimator:hover label.sk-toggleable__label-arrow:before {color: black;}#sk-container-id-3 div.sk-toggleable__content {max-height: 0;max-width: 0;overflow: hidden;text-align: left;background-color: #f0f8ff;}#sk-container-id-3 div.sk-toggleable__content pre {margin: 0.2em;color: black;border-radius: 0.25em;background-color: #f0f8ff;}#sk-container-id-3 input.sk-toggleable__control:checked~div.sk-toggleable__content {max-height: 200px;max-width: 100%;overflow: auto;}#sk-container-id-3 input.sk-toggleable__control:checked~label.sk-toggleable__label-arrow:before {content: \"▾\";}#sk-container-id-3 div.sk-estimator input.sk-toggleable__control:checked~label.sk-toggleable__label {background-color: #d4ebff;}#sk-container-id-3 div.sk-label input.sk-toggleable__control:checked~label.sk-toggleable__label {background-color: #d4ebff;}#sk-container-id-3 input.sk-hidden--visually {border: 0;clip: rect(1px 1px 1px 1px);clip: rect(1px, 1px, 1px, 1px);height: 1px;margin: -1px;overflow: hidden;padding: 0;position: absolute;width: 1px;}#sk-container-id-3 div.sk-estimator {font-family: monospace;background-color: #f0f8ff;border: 1px dotted black;border-radius: 0.25em;box-sizing: border-box;margin-bottom: 0.5em;}#sk-container-id-3 div.sk-estimator:hover {background-color: #d4ebff;}#sk-container-id-3 div.sk-parallel-item::after {content: \"\";width: 100%;border-bottom: 1px solid gray;flex-grow: 1;}#sk-container-id-3 div.sk-label:hover label.sk-toggleable__label {background-color: #d4ebff;}#sk-container-id-3 div.sk-serial::before {content: \"\";position: absolute;border-left: 1px solid gray;box-sizing: border-box;top: 0;bottom: 0;left: 50%;z-index: 0;}#sk-container-id-3 div.sk-serial {display: flex;flex-direction: column;align-items: center;background-color: white;padding-right: 0.2em;padding-left: 0.2em;position: relative;}#sk-container-id-3 div.sk-item {position: relative;z-index: 1;}#sk-container-id-3 div.sk-parallel {display: flex;align-items: stretch;justify-content: center;background-color: white;position: relative;}#sk-container-id-3 div.sk-item::before, #sk-container-id-3 div.sk-parallel-item::before {content: \"\";position: absolute;border-left: 1px solid gray;box-sizing: border-box;top: 0;bottom: 0;left: 50%;z-index: -1;}#sk-container-id-3 div.sk-parallel-item {display: flex;flex-direction: column;z-index: 1;position: relative;background-color: white;}#sk-container-id-3 div.sk-parallel-item:first-child::after {align-self: flex-end;width: 50%;}#sk-container-id-3 div.sk-parallel-item:last-child::after {align-self: flex-start;width: 50%;}#sk-container-id-3 div.sk-parallel-item:only-child::after {width: 0;}#sk-container-id-3 div.sk-dashed-wrapped {border: 1px dashed gray;margin: 0 0.4em 0.5em 0.4em;box-sizing: border-box;padding-bottom: 0.4em;background-color: white;}#sk-container-id-3 div.sk-label label {font-family: monospace;font-weight: bold;display: inline-block;line-height: 1.2em;}#sk-container-id-3 div.sk-label-container {text-align: center;}#sk-container-id-3 div.sk-container {/* jupyter's `normalize.less` sets `[hidden] { display: none; }` but bootstrap.min.css set `[hidden] { display: none !important; }` so we also need the `!important` here to be able to override the default hidden behavior on the sphinx rendered scikit-learn.org. See: https://github.com/scikit-learn/scikit-learn/issues/21755 */display: inline-block !important;position: relative;}#sk-container-id-3 div.sk-text-repr-fallback {display: none;}</style><div id=\"sk-container-id-3\" class=\"sk-top-container\"><div class=\"sk-text-repr-fallback\"><pre>LogisticRegression()</pre><b>In a Jupyter environment, please rerun this cell to show the HTML representation or trust the notebook. <br />On GitHub, the HTML representation is unable to render, please try loading this page with nbviewer.org.</b></div><div class=\"sk-container\" hidden><div class=\"sk-item\"><div class=\"sk-estimator sk-toggleable\"><input class=\"sk-toggleable__control sk-hidden--visually\" id=\"sk-estimator-id-3\" type=\"checkbox\" checked><label for=\"sk-estimator-id-3\" class=\"sk-toggleable__label sk-toggleable__label-arrow\">LogisticRegression</label><div class=\"sk-toggleable__content\"><pre>LogisticRegression()</pre></div></div></div></div></div>"
      ],
      "text/plain": [
       "LogisticRegression()"
      ]
     },
     "execution_count": 37,
     "metadata": {},
     "output_type": "execute_result"
    }
   ],
   "source": [
    "# Entraînement du modèle\n",
    "model.fit(X_train, y_train)"
   ]
  },
  {
   "cell_type": "code",
   "execution_count": 38,
   "id": "37108f35",
   "metadata": {},
   "outputs": [],
   "source": [
    "# Prédiction sur l'ensemble de test\n",
    "y_pred = model.predict(X_test)"
   ]
  },
  {
   "cell_type": "markdown",
   "id": "913bffb9",
   "metadata": {},
   "source": [
    "# Metrics"
   ]
  },
  {
   "cell_type": "code",
   "execution_count": 41,
   "id": "c8f9b5e2",
   "metadata": {},
   "outputs": [
    {
     "name": "stdout",
     "output_type": "stream",
     "text": [
      "Accuracy:  0.995\n",
      "Confusion Matrix:  [[100   0]\n",
      " [  1  99]]\n",
      "Precision:  0.995049504950495\n",
      "Recall:  0.995\n",
      "F1 Score:  0.9949998749968749\n",
      "Specificity:  1.0\n"
     ]
    },
    {
     "data": {
      "image/png": "[encoded data removed]",
      "text/plain": [
       "<Figure size 1000x700 with 2 Axes>"
      ]
     },
     "metadata": {},
     "output_type": "display_data"
    }
   ],
   "source": [
    "# Calcul de l'accuracy\n",
    "print('Accuracy: ', accuracy_score(y_test, y_pred))\n",
    "\n",
    "# Calcul de la matrice de confusion\n",
    "print('Confusion Matrix: ', confusion_matrix(y_test, y_pred))\n",
    "\n",
    "# Calcul de la précision\n",
    "precision = precision_score(y_test, y_pred, average='macro')\n",
    "print('Precision: ', precision)\n",
    "\n",
    "# Calcul du rappel\n",
    "recall = recall_score(y_test, y_pred, average='macro')\n",
    "print('Recall: ', recall)\n",
    "\n",
    "# Calcul du score F1\n",
    "f1 = f1_score(y_test, y_pred, average='macro')\n",
    "print('F1 Score: ', f1)\n",
    "\n",
    "\n",
    "\n",
    "\n",
    "# Calcul de la matrice de confusion\n",
    "cm = confusion_matrix(y_test, y_pred)\n",
    "\n",
    "# Calcul de la spécificité\n",
    "TN = cm[0][0]\n",
    "FP = cm[0][1]\n",
    "specificity = TN / (TN + FP)\n",
    "print('Specificity: ', specificity)\n",
    "\n",
    "# Représentation de la matrice de confusion\n",
    "plt.figure(figsize=(10,7))\n",
    "sns.heatmap(cm, annot=True)\n",
    "plt.xlabel('Predicted')\n",
    "plt.ylabel('Truth')\n",
    "plt.show()\n"
   ]
  },
  {
   "cell_type": "code",
   "execution_count": null,
   "id": "1cee7934",
   "metadata": {},
   "outputs": [],
   "source": []
  },
  {
   "cell_type": "code",
   "execution_count": 15,
   "id": "5ded1bd2",
   "metadata": {},
   "outputs": [],
   "source": [
    "import pandas as pd\n",
    "from sklearn.linear_model import LogisticRegression\n",
    "from tkinter import *"
   ]
  },
  {
   "cell_type": "code",
   "execution_count": 42,
   "id": "38731bd6",
   "metadata": {},
   "outputs": [],
   "source": [
    "# Création de la fenêtre principale\n",
    "window = Tk()\n",
    "window.title(\"Test du modèle de régression logistique\")\n",
    "window.geometry(\"400x200\")\n",
    "\n",
    "# Création du label d'instruction\n",
    "label = Label(window, text=\"Entrez le nom d'un produit:\", font=(\"Arial\", 12))\n",
    "label.pack(pady=10)\n",
    "\n",
    "# Création de l'entrée du nom du produit\n",
    "entry = Entry(window, width=30)\n",
    "entry.pack()\n",
    "\n",
    "# Création du label de résultat\n",
    "result = Label(window, text=\"\", font=(\"Arial\", 14), bg=\"white\")\n",
    "result.pack(pady=10, fill=BOTH, expand=True)\n",
    "\n",
    "# Fonction pour prédire la quantité du produit\n",
    "def predict():\n",
    "    # Récupération du nom du produit\n",
    "    product = entry.get()\n",
    "    \n",
    "    # Vérification si le produit existe dans les données\n",
    "    if product in data[\"Product line\"].unique():\n",
    "        # Extraction des caractéristiques du produit\n",
    "        features = data[data[\"Product line\"] == product][feature_cols].iloc[0]\n",
    "        \n",
    "        # Prédiction de la quantité du produit\n",
    "        quantity = model.predict([features])[0]\n",
    "        \n",
    "        # Définition de la couleur du résultat selon la quantité\n",
    "        if quantity == \"Élevé\":\n",
    "            color = \"green\"\n",
    "        elif quantity == \"Moyen\":\n",
    "            color = \"orange\"\n",
    "        else:\n",
    "            color = \"red\"\n",
    "        \n",
    "        # Affichage du résultat\n",
    "        result.config(text=f\"La quantité du produit {product} est {quantity}\", bg=color)\n",
    "    else:\n",
    "        # Affichage d'un message d'erreur si le produit n'existe pas\n",
    "        result.config(text=f\"Le produit {product} n'est pas dans les données\", bg=\"white\")\n",
    "\n",
    "# Création du bouton de prédiction\n",
    "button = Button(window, text=\"Prédire\", command=predict)\n",
    "button.pack(pady=10)\n",
    "\n",
    "# Lancement de la boucle principale\n",
    "window.mainloop()"
   ]
  },
  {
   "cell_type": "code",
   "execution_count": null,
   "id": "8fd110e3",
   "metadata": {},
   "outputs": [],
   "source": []
  }
 ],
 "metadata": {
  "kernelspec": {
   "display_name": "Python 3 (ipykernel)",
   "language": "python",
   "name": "python3"
  },
  "language_info": {
   "codemirror_mode": {
    "name": "ipython",
    "version": 3
   },
   "file_extension": ".py",
   "mimetype": "text/x-python",
   "name": "python",
   "nbconvert_exporter": "python",
   "pygments_lexer": "ipython3",
   "version": "3.9.0"
  }
 },
 "nbformat": 4,
 "nbformat_minor": 5
}
